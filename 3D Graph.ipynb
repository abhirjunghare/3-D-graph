{
 "cells": [
  {
   "cell_type": "code",
   "execution_count": 2,
   "id": "a184a6f2",
   "metadata": {
    "ExecuteTime": {
     "end_time": "2022-07-23T09:12:00.531906Z",
     "start_time": "2022-07-23T09:11:59.157910Z"
    }
   },
   "outputs": [],
   "source": [
    "import numpy as np\n",
    "import matplotlib.pyplot as plt\n",
    "from sklearn.linear_model import LinearRegression"
   ]
  },
  {
   "cell_type": "code",
   "execution_count": 3,
   "id": "84bef494",
   "metadata": {
    "ExecuteTime": {
     "end_time": "2022-07-23T09:12:02.811730Z",
     "start_time": "2022-07-23T09:12:02.795777Z"
    }
   },
   "outputs": [],
   "source": [
    "# 3D polynomial regression\n",
    "x = 7 * np.random.rand(100, 1) - 2.8\n",
    "y = 7 * np.random.rand(100, 1) - 2.8\n",
    "z = x**2 + y**2 + 0.2*x + 0.2*y + 0.1*x*y +2 + np.random.randn(100, 1)"
   ]
  },
  {
   "cell_type": "code",
   "execution_count": null,
   "id": "a671ea38",
   "metadata": {},
   "outputs": [],
   "source": [
    "import plotly.express as px\n",
    "df = px.data.iris()\n",
    "fig = px.scatter_3d(df, x=x.ravel(), y=y.ravel(), z=z.ravel())\n",
    "fig.show()"
   ]
  }
 ],
 "metadata": {
  "kernelspec": {
   "display_name": "Python 3 (ipykernel)",
   "language": "python",
   "name": "python3"
  },
  "language_info": {
   "codemirror_mode": {
    "name": "ipython",
    "version": 3
   },
   "file_extension": ".py",
   "mimetype": "text/x-python",
   "name": "python",
   "nbconvert_exporter": "python",
   "pygments_lexer": "ipython3",
   "version": "3.9.12"
  }
 },
 "nbformat": 4,
 "nbformat_minor": 5
}
